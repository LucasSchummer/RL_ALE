{
 "cells": [
  {
   "cell_type": "code",
   "execution_count": 11,
   "id": "8e6e1d24",
   "metadata": {},
   "outputs": [],
   "source": [
    "import gymnasium as gym\n",
    "import ale_py\n",
    "import matplotlib.pyplot as plt\n",
    "import torch\n",
    "import time\n",
    "import numpy as np\n",
    "from collections import deque\n",
    "\n",
    "from agents.a2c import A2C, update_network\n",
    "from envs.ale_utils import setup_training_dir, load_checkpoint, save_checkpoint, preprocess_frame, get_state, generate_video, save_plots"
   ]
  },
  {
   "cell_type": "code",
   "execution_count": 12,
   "id": "6d245e3d",
   "metadata": {},
   "outputs": [
    {
     "name": "stdout",
     "output_type": "stream",
     "text": [
      "Box(0, 255, (210, 160, 3), uint8)\n",
      "Discrete(4)\n"
     ]
    }
   ],
   "source": [
    "env = gym.make(\"ALE/Breakout-v5\")\n",
    "print(env.observation_space)\n",
    "print(env.action_space)"
   ]
  },
  {
   "cell_type": "markdown",
   "id": "cfefb3f1",
   "metadata": {},
   "source": [
    "Timesteps per episode with random behaviour : around 200  \n",
    "Training timesteps (DQN paper) : 50M  \n",
    "-> 250k episodes ?"
   ]
  },
  {
   "cell_type": "code",
   "execution_count": 13,
   "id": "fe1dbd35",
   "metadata": {},
   "outputs": [],
   "source": [
    "batch_size = 20\n",
    "frame_stack = 4\n",
    "max_episodes = 40\n",
    "gamma = .99\n",
    "lr = 5e-4\n",
    "c_actor = 1\n",
    "c_critic = .25\n",
    "c_entropy = .01\n",
    "max_grad_norm = .5\n",
    "checkpoint_frequency = 10"
   ]
  },
  {
   "cell_type": "code",
   "execution_count": 14,
   "id": "356f9969",
   "metadata": {},
   "outputs": [],
   "source": [
    "resume_training = True\n",
    "version = \"v3\"\n",
    "checkpoint = f\"training/a2c/{version}/training3/20.pth\"\n",
    "training_number = setup_training_dir(resume_training, \"a2c\", version)\n",
    "\n",
    "max_training_time = 9 #h"
   ]
  },
  {
   "cell_type": "code",
   "execution_count": 15,
   "id": "108fc639",
   "metadata": {},
   "outputs": [],
   "source": [
    "model = A2C(input_channels=frame_stack, n_actions=4)\n",
    "optimizer = torch.optim.Adam(model.parameters(), lr = lr)\n",
    "ev_states = torch.load(\"ev_states/breakout_ev_states.pt\")"
   ]
  },
  {
   "cell_type": "code",
   "execution_count": 16,
   "id": "da5159eb",
   "metadata": {},
   "outputs": [],
   "source": [
    "if resume_training:\n",
    "    training_vars = load_checkpoint(model, optimizer, checkpoint)\n",
    "    returns, avg_values, episode_start, timestep = training_vars\n",
    "else:\n",
    "    episode_start = 0\n",
    "    timestep = 0\n",
    "    returns = []\n",
    "    avg_values = []"
   ]
  },
  {
   "cell_type": "code",
   "execution_count": 17,
   "id": "5ffb31c7",
   "metadata": {},
   "outputs": [],
   "source": [
    "start_time = time.time()\n",
    "for episode in range(episode_start, max_episodes):\n",
    "\n",
    "    done = False\n",
    "    doFire = True # Start game by using FIRE\n",
    "    ep_return = 0\n",
    "    last_frames = deque(maxlen=frame_stack)\n",
    "    logits, log_probs, values, rewards, next_values, dones = [], [], [], [], [], []\n",
    "\n",
    "    frame, info = env.reset()\n",
    "    current_lives = info['lives']\n",
    "    phi_frame = preprocess_frame(frame)\n",
    "    \n",
    "    # Initially, fill the last_frames buffer with the first frame\n",
    "    for _ in range(frame_stack):\n",
    "        last_frames.append(phi_frame)\n",
    "\n",
    "    state = get_state(last_frames)\n",
    "\n",
    "    while not done:\n",
    "        \n",
    "        actor_logits, value = model(state)\n",
    "        m = torch.distributions.Categorical(logits=actor_logits)\n",
    "        action = m.sample()\n",
    "        log_prob = m.log_prob(action)\n",
    "\n",
    "        if doFire: # Do FIRE action if just lost a life to launch back the game\n",
    "            action = torch.tensor([1])\n",
    "            log_prob = m.log_prob(action)\n",
    "            doFire = False\n",
    "\n",
    "        frame, reward, done, truncated, info = env.step(action.item())\n",
    "\n",
    "        if info['lives'] > current_lives: # Do FIRE next frame if just lost a life\n",
    "            doFire = True\n",
    "            current_lives = info['lives']\n",
    "\n",
    "        phi_frame = preprocess_frame(frame)\n",
    "        last_frames.append(phi_frame) # Automatically removes the oldest frame\n",
    "        next_state = get_state(last_frames)\n",
    "\n",
    "        ep_return += reward\n",
    "\n",
    "        with torch.no_grad():\n",
    "            _, next_value = model(next_state)\n",
    "\n",
    "        logits.append(actor_logits.squeeze(0))\n",
    "        log_probs.append(log_prob)\n",
    "        values.append(value)\n",
    "        rewards.append(reward)\n",
    "        next_values.append(next_value)\n",
    "        dones.append(float(done))\n",
    "\n",
    "        state = next_state\n",
    "\n",
    "        if len(log_probs) == batch_size or done:\n",
    "\n",
    "            update_network(model, optimizer, logits, log_probs, values, rewards, next_values, dones, gamma, c_actor, c_critic, c_entropy, max_grad_norm)\n",
    "            logits, log_probs, values, rewards, next_values, dones = [], [], [], [], [], [] # Clear buffers\n",
    "\n",
    "        timestep += 1\n",
    "\n",
    "    returns.append(ep_return)\n",
    "\n",
    "    model.eval()\n",
    "    with torch.no_grad():\n",
    "        _, values = model(torch.cat(ev_states, dim=0)) # Evaluate average value on evaluation states\n",
    "    avg_values.append(values.mean().item())\n",
    "    model.train()\n",
    "\n",
    "    if (episode + 1) % 100 == 0:\n",
    "        print(f\"{episode+1} episodes ({timestep} timesteps). Average return on last 100 episodes : {np.mean(returns[-100:])}\")\n",
    "\n",
    "    if (episode + 1) % checkpoint_frequency == 0:\n",
    "        save_checkpoint(model, optimizer, returns, avg_values, episode, timestep, f\"training/a2c/{version}/training{training_number}/{episode+1}.pth\")\n",
    "        save_plots(returns, avg_values, episode+1, f\"training/a2c/{version}/training{training_number}\") \n",
    "        generate_video(env, model, frame_stack, 1, 10000, f\"training/a2c/{version}/training{training_number}/{episode+1}.mp4\", greedy=True)\n",
    "\n",
    "    if time.time() - start_time > 3600 * max_training_time:\n",
    "        print(f\"Maximum training time of {max_training_time}h exceeded. Interrupting training after {episode} episodes.\")\n",
    "        break \n",
    "    "
   ]
  },
  {
   "cell_type": "code",
   "execution_count": 18,
   "id": "da4a7d75",
   "metadata": {},
   "outputs": [
    {
     "data": {
      "text/plain": [
       "Text(0, 0.5, 'Average Return')"
      ]
     },
     "execution_count": 18,
     "metadata": {},
     "output_type": "execute_result"
    },
    {
     "data": {
      "image/png": "[encoded data removed]",
      "text/plain": [
       "<Figure size 640x480 with 1 Axes>"
      ]
     },
     "metadata": {},
     "output_type": "display_data"
    }
   ],
   "source": [
    "avg_returns = [np.mean(returns[i-100:i]) for i in range(100, len(returns))]\n",
    "plt.plot(range(100, len(returns)), avg_returns)\n",
    "plt.title(\"Average return per episode (100 last episodes)\")\n",
    "plt.xlabel(\"Episodes\")\n",
    "plt.ylabel(\"Average Return\")"
   ]
  },
  {
   "cell_type": "code",
   "execution_count": 19,
   "id": "199c07d2",
   "metadata": {},
   "outputs": [
    {
     "data": {
      "text/plain": [
       "Text(0, 0.5, 'Average value')"
      ]
     },
     "execution_count": 19,
     "metadata": {},
     "output_type": "execute_result"
    },
    {
     "data": {
      "image/png": "[encoded data removed]",
      "text/plain": [
       "<Figure size 640x480 with 1 Axes>"
      ]
     },
     "metadata": {},
     "output_type": "display_data"
    }
   ],
   "source": [
    "moving_avg_values = [np.mean(avg_values[i-100:i]) for i in range(100, len(avg_values))]\n",
    "plt.plot(range(100, len(avg_values)), moving_avg_values)\n",
    "plt.title(\"Average value (moving average on last 100 episodes)\")\n",
    "plt.xlabel(\"Episodes\")\n",
    "plt.ylabel(\"Average value\")"
   ]
  },
  {
   "cell_type": "markdown",
   "id": "6c87d3a6",
   "metadata": {},
   "source": [
    "After 27000 episodes  \n",
    "-> lr from 2.5e-4 to 1e-4  \n",
    "-> c_entropy from 0.01 to 0.001  \n",
    "=> Great improvement of the average return thanks to the reduced entropy loss, but great variance, instability (training1)"
   ]
  },
  {
   "cell_type": "markdown",
   "id": "13240b2f",
   "metadata": {},
   "source": [
    "Restart training at episode 27000 with lr 2.5 and c_entropy at .01 (training2)"
   ]
  },
  {
   "cell_type": "markdown",
   "id": "5f70bc95",
   "metadata": {},
   "source": [
    "## Benchmark"
   ]
  },
  {
   "cell_type": "markdown",
   "id": "ba64acf8",
   "metadata": {},
   "source": [
    "Run 1 episode to estimate time of different actions each frame"
   ]
  },
  {
   "cell_type": "code",
   "execution_count": 20,
   "id": "5138fce0",
   "metadata": {},
   "outputs": [],
   "source": [
    "# step_times = []\n",
    "# forward_times = []\n",
    "# backward_times = []\n",
    "\n",
    "\n",
    "# tot_t_start = time.time()\n",
    "\n",
    "# done = False\n",
    "# doFire = True # Start game by using FIRE\n",
    "# ep_return = 0\n",
    "# last_frames = deque(maxlen=frame_stack)\n",
    "# logits, log_probs, values, rewards, next_values, dones = [], [], [], [], [], []\n",
    "\n",
    "# frame, info = env.reset()\n",
    "# current_lives = info['lives']\n",
    "# phi_frame = preprocess_frame(frame)\n",
    "\n",
    "# # Initially, fill the last_frames buffer with the first frame\n",
    "# for _ in range(frame_stack):\n",
    "#     last_frames.append(phi_frame)\n",
    "\n",
    "# state = get_state(last_frames)\n",
    "\n",
    "# while not done:\n",
    "    \n",
    "#     tic = time.time()\n",
    "#     actor_logits, value = model(state)\n",
    "#     forward_times.append(time.time() - tic)\n",
    "#     m = torch.distributions.Categorical(logits=actor_logits)\n",
    "#     action = m.sample()\n",
    "#     log_prob = m.log_prob(action)\n",
    "\n",
    "#     if doFire: # Do FIRE action if just lost a life to launch back the game\n",
    "#         action = torch.tensor([1])\n",
    "#         log_prob = m.log_prob(action)\n",
    "#         doFire = False\n",
    "\n",
    "#     tic = time.time()\n",
    "#     frame, reward, done, truncated, info = env.step(action.item())\n",
    "#     step_times.append(time.time() - tic)\n",
    "\n",
    "#     if info['lives'] > current_lives: # Do FIRE next frame if just lost a life\n",
    "#         doFire = True\n",
    "#         current_lives = info['lives']\n",
    "\n",
    "#     phi_frame = preprocess_frame(frame)\n",
    "#     last_frames.append(phi_frame) # Automatically removes the oldest frame\n",
    "#     next_state = get_state(last_frames)\n",
    "\n",
    "#     ep_return += reward\n",
    "\n",
    "#     with torch.no_grad():\n",
    "#         _, next_value = model(next_state)\n",
    "\n",
    "#     logits.append(actor_logits.squeeze(0))\n",
    "#     log_probs.append(log_prob)\n",
    "#     values.append(value)\n",
    "#     rewards.append(reward)\n",
    "#     next_values.append(next_value)\n",
    "#     dones.append(float(done))\n",
    "\n",
    "#     state = next_state\n",
    "\n",
    "#     if len(log_probs) == batch_size or done:\n",
    "        \n",
    "#         tic = time.time()\n",
    "#         update_network(optimizer, logits, log_probs, values, rewards, next_values, dones, gamma, c_actor, c_critic, c_entropy)\n",
    "#         backward_times.append(time.time() - tic)\n",
    "#         logits, log_probs, values, rewards, next_values, dones = [], [], [], [], [], [] # Clear buffers\n",
    "\n",
    "# returns.append(ep_return)\n",
    "\n",
    "# model.eval()\n",
    "# with torch.no_grad():\n",
    "#     _, values = model(torch.cat(ev_states, dim=0)) # Evaluate average value on evaluation states\n",
    "# avg_values.append(values.mean().item())\n",
    "# model.train()\n",
    "\n",
    "# tot_time = time.time() - tot_t_start    \n",
    "\n",
    "# print(f\"Total episode time : {tot_time}\")\n",
    "# print(f\"Average time by forward pass : {np.mean(forward_times)}\")\n",
    "# print(f\"Average time by backward pass : {np.mean(backward_times)}\")\n",
    "# print(f\"Average time by env step : {np.mean(step_times)}\")"
   ]
  },
  {
   "cell_type": "markdown",
   "id": "50888431",
   "metadata": {},
   "source": [
    "The actions take approximately on my CPU (seconds) : \n",
    "\n",
    "- 1e-1 / optimizer step\n",
    "- 1e-3 / forward pass\n",
    "- 5e-4 / env step (emulator)  \n",
    "\n",
    "Clearly, the backward pass and optimization steps are the most time-consuming training operations, even though they are only performed every 20 steps. Using a GPU would definitely speed up the agent training."
   ]
  },
  {
   "cell_type": "markdown",
   "id": "5c6f27a8",
   "metadata": {},
   "source": [
    "---"
   ]
  },
  {
   "cell_type": "code",
   "execution_count": null,
   "id": "b70ec0d6",
   "metadata": {},
   "outputs": [],
   "source": [
    "assert 1 == 0"
   ]
  },
  {
   "cell_type": "markdown",
   "id": "a79c1fba",
   "metadata": {},
   "source": [
    "Colab Code"
   ]
  },
  {
   "cell_type": "code",
   "execution_count": null,
   "id": "9557f66e",
   "metadata": {},
   "outputs": [],
   "source": [
    "!pip install gymnasium[atari,accept-rom-license] ale-py torch torchvision imageio"
   ]
  },
  {
   "cell_type": "code",
   "execution_count": null,
   "id": "ba0be5f7",
   "metadata": {},
   "outputs": [],
   "source": [
    "!git clone https://github.com/LucasSchummer/RL_ALE\n",
    "cd RL_ALE"
   ]
  },
  {
   "cell_type": "code",
   "execution_count": null,
   "id": "aa0b4cad",
   "metadata": {},
   "outputs": [],
   "source": [
    "from google.colab import drive\n",
    "drive.mount('/content/drive')"
   ]
  },
  {
   "cell_type": "code",
   "execution_count": null,
   "id": "97d8f6fc",
   "metadata": {},
   "outputs": [],
   "source": [
    "import torch\n",
    "print(torch.cuda.is_available())  # should print True\n",
    "print(torch.cuda.get_device_name(0))"
   ]
  }
 ],
 "metadata": {
  "kernelspec": {
   "display_name": "Python 3",
   "language": "python",
   "name": "python3"
  },
  "language_info": {
   "codemirror_mode": {
    "name": "ipython",
    "version": 3
   },
   "file_extension": ".py",
   "mimetype": "text/x-python",
   "name": "python",
   "nbconvert_exporter": "python",
   "pygments_lexer": "ipython3",
   "version": "3.9.13"
  }
 },
 "nbformat": 4,
 "nbformat_minor": 5
}
